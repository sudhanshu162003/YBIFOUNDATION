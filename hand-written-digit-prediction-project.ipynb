{
 "cells": [
  {
   "cell_type": "markdown",
   "id": "e141fe1d",
   "metadata": {
    "id": "Vy2SMfOTv6Ej",
    "papermill": {
     "duration": 0.012008,
     "end_time": "2024-01-30T13:09:56.305309",
     "exception": false,
     "start_time": "2024-01-30T13:09:56.293301",
     "status": "completed"
    },
    "tags": []
   },
   "source": [
    "**Hand written digit prediction -claassification analysis**"
   ]
  },
  {
   "cell_type": "markdown",
   "id": "03947a7b",
   "metadata": {
    "id": "KbuYmdX0w_ss",
    "papermill": {
     "duration": 0.013961,
     "end_time": "2024-01-30T13:09:56.330756",
     "exception": false,
     "start_time": "2024-01-30T13:09:56.316795",
     "status": "completed"
    },
    "tags": []
   },
   "source": [
    "The digits dataset consists of 8x8 pixel images pf digits.The images attribute of the dataset stores 8x8 arrays of grayscale values for each image.we will use these arrays to visualize the first 4 images.The target attritube of the dataset stores the digit each image represents"
   ]
  },
  {
   "cell_type": "markdown",
   "id": "8b960580",
   "metadata": {
    "papermill": {
     "duration": 0.01156,
     "end_time": "2024-01-30T13:09:56.352979",
     "exception": false,
     "start_time": "2024-01-30T13:09:56.341419",
     "status": "completed"
    },
    "tags": []
   },
   "source": [
    "**data source**"
   ]
  },
  {
   "cell_type": "markdown",
   "id": "255211bb",
   "metadata": {
    "id": "q30YKMDE6ZFU",
    "papermill": {
     "duration": 0.012158,
     "end_time": "2024-01-30T13:09:56.378188",
     "exception": false,
     "start_time": "2024-01-30T13:09:56.366030",
     "status": "completed"
    },
    "tags": []
   },
   "source": [
    "ybi foundation-github"
   ]
  },
  {
   "cell_type": "markdown",
   "id": "208f68e3",
   "metadata": {
    "id": "Q8K4pOQP_NcM",
    "papermill": {
     "duration": 0.009342,
     "end_time": "2024-01-30T13:09:56.400297",
     "exception": false,
     "start_time": "2024-01-30T13:09:56.390955",
     "status": "completed"
    },
    "tags": []
   },
   "source": [
    "# **Import Library**"
   ]
  },
  {
   "cell_type": "code",
   "execution_count": 1,
   "id": "03b84839",
   "metadata": {
    "execution": {
     "iopub.execute_input": "2024-01-30T13:09:56.428326Z",
     "iopub.status.busy": "2024-01-30T13:09:56.426727Z",
     "iopub.status.idle": "2024-01-30T13:09:57.607584Z",
     "shell.execute_reply": "2024-01-30T13:09:57.605774Z"
    },
    "id": "t1eFOFTO-8Z0",
    "papermill": {
     "duration": 1.198401,
     "end_time": "2024-01-30T13:09:57.610375",
     "exception": false,
     "start_time": "2024-01-30T13:09:56.411974",
     "status": "completed"
    },
    "tags": []
   },
   "outputs": [],
   "source": [
    "import pandas as pd"
   ]
  },
  {
   "cell_type": "code",
   "execution_count": 2,
   "id": "3e10c800",
   "metadata": {
    "execution": {
     "iopub.execute_input": "2024-01-30T13:09:57.632732Z",
     "iopub.status.busy": "2024-01-30T13:09:57.632282Z",
     "iopub.status.idle": "2024-01-30T13:09:57.638397Z",
     "shell.execute_reply": "2024-01-30T13:09:57.636731Z"
    },
    "id": "JyR99cCf_vhs",
    "papermill": {
     "duration": 0.020754,
     "end_time": "2024-01-30T13:09:57.640961",
     "exception": false,
     "start_time": "2024-01-30T13:09:57.620207",
     "status": "completed"
    },
    "tags": []
   },
   "outputs": [],
   "source": [
    "import numpy as np"
   ]
  },
  {
   "cell_type": "code",
   "execution_count": 3,
   "id": "5e649323",
   "metadata": {
    "execution": {
     "iopub.execute_input": "2024-01-30T13:09:57.661363Z",
     "iopub.status.busy": "2024-01-30T13:09:57.660972Z",
     "iopub.status.idle": "2024-01-30T13:09:57.666627Z",
     "shell.execute_reply": "2024-01-30T13:09:57.664980Z"
    },
    "id": "c0E4zO99AuEc",
    "papermill": {
     "duration": 0.019311,
     "end_time": "2024-01-30T13:09:57.669686",
     "exception": false,
     "start_time": "2024-01-30T13:09:57.650375",
     "status": "completed"
    },
    "tags": []
   },
   "outputs": [],
   "source": [
    "import matplotlib.pyplot as plt"
   ]
  },
  {
   "cell_type": "markdown",
   "id": "d0b73c1d",
   "metadata": {
    "id": "bRukRNKoA4VL",
    "papermill": {
     "duration": 0.008878,
     "end_time": "2024-01-30T13:09:57.688336",
     "exception": false,
     "start_time": "2024-01-30T13:09:57.679458",
     "status": "completed"
    },
    "tags": []
   },
   "source": [
    "# **Import Data**"
   ]
  },
  {
   "cell_type": "code",
   "execution_count": 4,
   "id": "fef21b31",
   "metadata": {
    "execution": {
     "iopub.execute_input": "2024-01-30T13:09:57.710668Z",
     "iopub.status.busy": "2024-01-30T13:09:57.709393Z",
     "iopub.status.idle": "2024-01-30T13:09:59.362468Z",
     "shell.execute_reply": "2024-01-30T13:09:59.361374Z"
    },
    "id": "qVGZMA-gA9wS",
    "papermill": {
     "duration": 1.667368,
     "end_time": "2024-01-30T13:09:59.365576",
     "exception": false,
     "start_time": "2024-01-30T13:09:57.698208",
     "status": "completed"
    },
    "tags": []
   },
   "outputs": [],
   "source": [
    "from sklearn.datasets import load_digits"
   ]
  },
  {
   "cell_type": "markdown",
   "id": "6bf9039a",
   "metadata": {
    "id": "FsQ-nMO6Be9X",
    "papermill": {
     "duration": 0.010193,
     "end_time": "2024-01-30T13:09:59.386089",
     "exception": false,
     "start_time": "2024-01-30T13:09:59.375896",
     "status": "completed"
    },
    "tags": []
   },
   "source": [
    "# **Describe Data**"
   ]
  },
  {
   "cell_type": "code",
   "execution_count": 5,
   "id": "dc2a297d",
   "metadata": {
    "execution": {
     "iopub.execute_input": "2024-01-30T13:09:59.408364Z",
     "iopub.status.busy": "2024-01-30T13:09:59.407672Z",
     "iopub.status.idle": "2024-01-30T13:09:59.433686Z",
     "shell.execute_reply": "2024-01-30T13:09:59.432427Z"
    },
    "id": "5TFthIsbEQlj",
    "papermill": {
     "duration": 0.039635,
     "end_time": "2024-01-30T13:09:59.435972",
     "exception": false,
     "start_time": "2024-01-30T13:09:59.396337",
     "status": "completed"
    },
    "tags": []
   },
   "outputs": [],
   "source": [
    "df = load_digits()"
   ]
  },
  {
   "cell_type": "markdown",
   "id": "3bbe97c3",
   "metadata": {
    "id": "Iwdky6kTDw_y",
    "papermill": {
     "duration": 0.012232,
     "end_time": "2024-01-30T13:09:59.457538",
     "exception": false,
     "start_time": "2024-01-30T13:09:59.445306",
     "status": "completed"
    },
    "tags": []
   },
   "source": [
    "# **Data Visualization**"
   ]
  },
  {
   "cell_type": "code",
   "execution_count": 6,
   "id": "13462721",
   "metadata": {
    "execution": {
     "iopub.execute_input": "2024-01-30T13:09:59.479061Z",
     "iopub.status.busy": "2024-01-30T13:09:59.478470Z",
     "iopub.status.idle": "2024-01-30T13:09:59.951858Z",
     "shell.execute_reply": "2024-01-30T13:09:59.950169Z"
    },
    "id": "dOGpR-sIElEO",
    "outputId": "1c72fa90-4376-41d5-e6cd-53e56cdd85be",
    "papermill": {
     "duration": 0.48673,
     "end_time": "2024-01-30T13:09:59.954444",
     "exception": false,
     "start_time": "2024-01-30T13:09:59.467714",
     "status": "completed"
    },
    "tags": []
   },
   "outputs": [
    {
     "data": {
      "image/png": "[encoded data removed]",
      "text/plain": [
       "<Figure size 1000x300 with 4 Axes>"
      ]
     },
     "metadata": {},
     "output_type": "display_data"
    }
   ],
   "source": [
    "_, axes = plt.subplots(nrows = 1, ncols = 4, figsize = (10, 3))\n",
    "for ax, image, label in zip(axes, df.images, df.target):\n",
    "    ax.set_axis_off()\n",
    "    ax.imshow(image, cmap=plt.cm.gray_r, interpolation = 'nearest')\n",
    "    ax.set_title('Training: %i' % label)"
   ]
  },
  {
   "cell_type": "markdown",
   "id": "b73ef213",
   "metadata": {
    "id": "38dBDVRlExIb",
    "papermill": {
     "duration": 0.011148,
     "end_time": "2024-01-30T13:09:59.975027",
     "exception": false,
     "start_time": "2024-01-30T13:09:59.963879",
     "status": "completed"
    },
    "tags": []
   },
   "source": [
    "# **Data Preprocessing**"
   ]
  },
  {
   "cell_type": "markdown",
   "id": "b8c1035f",
   "metadata": {
    "id": "sy2pPl1LE6R2",
    "papermill": {
     "duration": 0.010537,
     "end_time": "2024-01-30T13:09:59.997112",
     "exception": false,
     "start_time": "2024-01-30T13:09:59.986575",
     "status": "completed"
    },
    "tags": []
   },
   "source": [
    "### **Flatten Image**\n"
   ]
  },
  {
   "cell_type": "code",
   "execution_count": 7,
   "id": "7c3057ab",
   "metadata": {
    "execution": {
     "iopub.execute_input": "2024-01-30T13:10:00.031569Z",
     "iopub.status.busy": "2024-01-30T13:10:00.030927Z",
     "iopub.status.idle": "2024-01-30T13:10:00.044139Z",
     "shell.execute_reply": "2024-01-30T13:10:00.037193Z"
    },
    "id": "yBg9o1ybFNHs",
    "outputId": "9f76471a-f4e1-4953-b09d-c0818aa0468b",
    "papermill": {
     "duration": 0.034876,
     "end_time": "2024-01-30T13:10:00.046796",
     "exception": false,
     "start_time": "2024-01-30T13:10:00.011920",
     "status": "completed"
    },
    "tags": []
   },
   "outputs": [
    {
     "data": {
      "text/plain": [
       "(1797, 8, 8)"
      ]
     },
     "execution_count": 7,
     "metadata": {},
     "output_type": "execute_result"
    }
   ],
   "source": [
    "df.images.shape"
   ]
  },
  {
   "cell_type": "code",
   "execution_count": 8,
   "id": "bae4fc05",
   "metadata": {
    "execution": {
     "iopub.execute_input": "2024-01-30T13:10:00.076354Z",
     "iopub.status.busy": "2024-01-30T13:10:00.075453Z",
     "iopub.status.idle": "2024-01-30T13:10:00.087827Z",
     "shell.execute_reply": "2024-01-30T13:10:00.085746Z"
    },
    "id": "pSUHQdxrFAPS",
    "outputId": "0e90ac06-47f7-4007-ed0f-2c6401922ab8",
    "papermill": {
     "duration": 0.033023,
     "end_time": "2024-01-30T13:10:00.090570",
     "exception": false,
     "start_time": "2024-01-30T13:10:00.057547",
     "status": "completed"
    },
    "tags": []
   },
   "outputs": [
    {
     "data": {
      "text/plain": [
       "array([[ 0.,  0.,  5., 13.,  9.,  1.,  0.,  0.],\n",
       "       [ 0.,  0., 13., 15., 10., 15.,  5.,  0.],\n",
       "       [ 0.,  3., 15.,  2.,  0., 11.,  8.,  0.],\n",
       "       [ 0.,  4., 12.,  0.,  0.,  8.,  8.,  0.],\n",
       "       [ 0.,  5.,  8.,  0.,  0.,  9.,  8.,  0.],\n",
       "       [ 0.,  4., 11.,  0.,  1., 12.,  7.,  0.],\n",
       "       [ 0.,  2., 14.,  5., 10., 12.,  0.,  0.],\n",
       "       [ 0.,  0.,  6., 13., 10.,  0.,  0.,  0.]])"
      ]
     },
     "execution_count": 8,
     "metadata": {},
     "output_type": "execute_result"
    }
   ],
   "source": [
    "df.images[0]"
   ]
  },
  {
   "cell_type": "code",
   "execution_count": 9,
   "id": "34b1226a",
   "metadata": {
    "execution": {
     "iopub.execute_input": "2024-01-30T13:10:00.119409Z",
     "iopub.status.busy": "2024-01-30T13:10:00.118941Z",
     "iopub.status.idle": "2024-01-30T13:10:00.126847Z",
     "shell.execute_reply": "2024-01-30T13:10:00.125022Z"
    },
    "id": "AuEQaG75Gc61",
    "outputId": "6927f82e-e3a5-46e0-c166-4bcbe45e1ba8",
    "papermill": {
     "duration": 0.024863,
     "end_time": "2024-01-30T13:10:00.129424",
     "exception": false,
     "start_time": "2024-01-30T13:10:00.104561",
     "status": "completed"
    },
    "tags": []
   },
   "outputs": [
    {
     "data": {
      "text/plain": [
       "(8, 8)"
      ]
     },
     "execution_count": 9,
     "metadata": {},
     "output_type": "execute_result"
    }
   ],
   "source": [
    "df.images[0].shape"
   ]
  },
  {
   "cell_type": "code",
   "execution_count": 10,
   "id": "fe9da521",
   "metadata": {
    "execution": {
     "iopub.execute_input": "2024-01-30T13:10:00.159525Z",
     "iopub.status.busy": "2024-01-30T13:10:00.159014Z",
     "iopub.status.idle": "2024-01-30T13:10:00.165112Z",
     "shell.execute_reply": "2024-01-30T13:10:00.163240Z"
    },
    "id": "Xxkj2BvSGxIw",
    "papermill": {
     "duration": 0.026085,
     "end_time": "2024-01-30T13:10:00.167747",
     "exception": false,
     "start_time": "2024-01-30T13:10:00.141662",
     "status": "completed"
    },
    "tags": []
   },
   "outputs": [],
   "source": [
    "n_samples = len(df.images)\n",
    "data = df.images.reshape((n_samples, -1))"
   ]
  },
  {
   "cell_type": "code",
   "execution_count": 11,
   "id": "2cb1c7a1",
   "metadata": {
    "execution": {
     "iopub.execute_input": "2024-01-30T13:10:00.198238Z",
     "iopub.status.busy": "2024-01-30T13:10:00.196965Z",
     "iopub.status.idle": "2024-01-30T13:10:00.207399Z",
     "shell.execute_reply": "2024-01-30T13:10:00.205614Z"
    },
    "id": "-mHCQed0G25h",
    "outputId": "503ab4ec-4519-4b85-d3db-46d40ab6b0cf",
    "papermill": {
     "duration": 0.028124,
     "end_time": "2024-01-30T13:10:00.210183",
     "exception": false,
     "start_time": "2024-01-30T13:10:00.182059",
     "status": "completed"
    },
    "tags": []
   },
   "outputs": [
    {
     "data": {
      "text/plain": [
       "array([ 0.,  0.,  5., 13.,  9.,  1.,  0.,  0.,  0.,  0., 13., 15., 10.,\n",
       "       15.,  5.,  0.,  0.,  3., 15.,  2.,  0., 11.,  8.,  0.,  0.,  4.,\n",
       "       12.,  0.,  0.,  8.,  8.,  0.,  0.,  5.,  8.,  0.,  0.,  9.,  8.,\n",
       "        0.,  0.,  4., 11.,  0.,  1., 12.,  7.,  0.,  0.,  2., 14.,  5.,\n",
       "       10., 12.,  0.,  0.,  0.,  0.,  6., 13., 10.,  0.,  0.,  0.])"
      ]
     },
     "execution_count": 11,
     "metadata": {},
     "output_type": "execute_result"
    }
   ],
   "source": [
    "data[0]\n"
   ]
  },
  {
   "cell_type": "code",
   "execution_count": 12,
   "id": "77b8d4c9",
   "metadata": {
    "execution": {
     "iopub.execute_input": "2024-01-30T13:10:00.246764Z",
     "iopub.status.busy": "2024-01-30T13:10:00.246269Z",
     "iopub.status.idle": "2024-01-30T13:10:00.254609Z",
     "shell.execute_reply": "2024-01-30T13:10:00.253050Z"
    },
    "id": "I3zIngciG_1z",
    "outputId": "fb7ee9c8-ba57-41a7-a56f-b2a440451836",
    "papermill": {
     "duration": 0.028037,
     "end_time": "2024-01-30T13:10:00.257711",
     "exception": false,
     "start_time": "2024-01-30T13:10:00.229674",
     "status": "completed"
    },
    "tags": []
   },
   "outputs": [
    {
     "data": {
      "text/plain": [
       "(64,)"
      ]
     },
     "execution_count": 12,
     "metadata": {},
     "output_type": "execute_result"
    }
   ],
   "source": [
    "data[0].shape"
   ]
  },
  {
   "cell_type": "code",
   "execution_count": 13,
   "id": "6b539f0c",
   "metadata": {
    "execution": {
     "iopub.execute_input": "2024-01-30T13:10:00.288590Z",
     "iopub.status.busy": "2024-01-30T13:10:00.288182Z",
     "iopub.status.idle": "2024-01-30T13:10:00.299941Z",
     "shell.execute_reply": "2024-01-30T13:10:00.297482Z"
    },
    "id": "YNhI-51mHGOH",
    "outputId": "eaeeae6c-83f3-4a67-cc66-d32f30a14f84",
    "papermill": {
     "duration": 0.031895,
     "end_time": "2024-01-30T13:10:00.302594",
     "exception": false,
     "start_time": "2024-01-30T13:10:00.270699",
     "status": "completed"
    },
    "tags": []
   },
   "outputs": [
    {
     "data": {
      "text/plain": [
       "(1797, 64)"
      ]
     },
     "execution_count": 13,
     "metadata": {},
     "output_type": "execute_result"
    }
   ],
   "source": [
    "data.shape"
   ]
  },
  {
   "cell_type": "markdown",
   "id": "de02fcf4",
   "metadata": {
    "id": "qlN46w3kIQCW",
    "papermill": {
     "duration": 0.015883,
     "end_time": "2024-01-30T13:10:00.331502",
     "exception": false,
     "start_time": "2024-01-30T13:10:00.315619",
     "status": "completed"
    },
    "tags": []
   },
   "source": [
    "# **Scaling Data**"
   ]
  },
  {
   "cell_type": "code",
   "execution_count": 14,
   "id": "241db370",
   "metadata": {
    "execution": {
     "iopub.execute_input": "2024-01-30T13:10:00.359406Z",
     "iopub.status.busy": "2024-01-30T13:10:00.358958Z",
     "iopub.status.idle": "2024-01-30T13:10:00.370794Z",
     "shell.execute_reply": "2024-01-30T13:10:00.369239Z"
    },
    "id": "IXon6NZrJT1W",
    "outputId": "25007115-5a82-4e4f-ebb2-3bd4dafdaf23",
    "papermill": {
     "duration": 0.030196,
     "end_time": "2024-01-30T13:10:00.374067",
     "exception": false,
     "start_time": "2024-01-30T13:10:00.343871",
     "status": "completed"
    },
    "tags": []
   },
   "outputs": [
    {
     "data": {
      "text/plain": [
       "0.0"
      ]
     },
     "execution_count": 14,
     "metadata": {},
     "output_type": "execute_result"
    }
   ],
   "source": [
    "data.min()"
   ]
  },
  {
   "cell_type": "code",
   "execution_count": 15,
   "id": "7682d9b3",
   "metadata": {
    "execution": {
     "iopub.execute_input": "2024-01-30T13:10:00.413342Z",
     "iopub.status.busy": "2024-01-30T13:10:00.412685Z",
     "iopub.status.idle": "2024-01-30T13:10:00.426213Z",
     "shell.execute_reply": "2024-01-30T13:10:00.424738Z"
    },
    "id": "pWKkuqQyJhWS",
    "outputId": "a3d5bdb0-af83-4cbe-817f-2a86191d9e57",
    "papermill": {
     "duration": 0.036896,
     "end_time": "2024-01-30T13:10:00.429830",
     "exception": false,
     "start_time": "2024-01-30T13:10:00.392934",
     "status": "completed"
    },
    "tags": []
   },
   "outputs": [
    {
     "data": {
      "text/plain": [
       "16.0"
      ]
     },
     "execution_count": 15,
     "metadata": {},
     "output_type": "execute_result"
    }
   ],
   "source": [
    "data.max()"
   ]
  },
  {
   "cell_type": "code",
   "execution_count": 16,
   "id": "9997c3d6",
   "metadata": {
    "execution": {
     "iopub.execute_input": "2024-01-30T13:10:00.548833Z",
     "iopub.status.busy": "2024-01-30T13:10:00.548322Z",
     "iopub.status.idle": "2024-01-30T13:10:00.553825Z",
     "shell.execute_reply": "2024-01-30T13:10:00.552552Z"
    },
    "id": "yEvCCvaEJnPl",
    "papermill": {
     "duration": 0.023664,
     "end_time": "2024-01-30T13:10:00.556609",
     "exception": false,
     "start_time": "2024-01-30T13:10:00.532945",
     "status": "completed"
    },
    "tags": []
   },
   "outputs": [],
   "source": [
    "data = data/16"
   ]
  },
  {
   "cell_type": "code",
   "execution_count": 17,
   "id": "2942740e",
   "metadata": {
    "execution": {
     "iopub.execute_input": "2024-01-30T13:10:00.585189Z",
     "iopub.status.busy": "2024-01-30T13:10:00.584776Z",
     "iopub.status.idle": "2024-01-30T13:10:00.592966Z",
     "shell.execute_reply": "2024-01-30T13:10:00.592052Z"
    },
    "id": "_SSOMBxxJv94",
    "outputId": "8aec75e1-37cb-4091-fa38-126bc7cb7d6b",
    "papermill": {
     "duration": 0.024004,
     "end_time": "2024-01-30T13:10:00.594849",
     "exception": false,
     "start_time": "2024-01-30T13:10:00.570845",
     "status": "completed"
    },
    "tags": []
   },
   "outputs": [
    {
     "data": {
      "text/plain": [
       "0.0"
      ]
     },
     "execution_count": 17,
     "metadata": {},
     "output_type": "execute_result"
    }
   ],
   "source": [
    "data.min()"
   ]
  },
  {
   "cell_type": "code",
   "execution_count": 18,
   "id": "6acd48c7",
   "metadata": {
    "execution": {
     "iopub.execute_input": "2024-01-30T13:10:00.618065Z",
     "iopub.status.busy": "2024-01-30T13:10:00.617721Z",
     "iopub.status.idle": "2024-01-30T13:10:00.626569Z",
     "shell.execute_reply": "2024-01-30T13:10:00.625466Z"
    },
    "id": "mGcF8vtLJ2BY",
    "outputId": "4f734858-ee96-49ff-fdbe-3b4fbb6d0768",
    "papermill": {
     "duration": 0.02267,
     "end_time": "2024-01-30T13:10:00.628608",
     "exception": false,
     "start_time": "2024-01-30T13:10:00.605938",
     "status": "completed"
    },
    "tags": []
   },
   "outputs": [
    {
     "data": {
      "text/plain": [
       "1.0"
      ]
     },
     "execution_count": 18,
     "metadata": {},
     "output_type": "execute_result"
    }
   ],
   "source": [
    "data.max()"
   ]
  },
  {
   "cell_type": "code",
   "execution_count": 19,
   "id": "dcf88ce7",
   "metadata": {
    "execution": {
     "iopub.execute_input": "2024-01-30T13:10:00.655763Z",
     "iopub.status.busy": "2024-01-30T13:10:00.655392Z",
     "iopub.status.idle": "2024-01-30T13:10:00.664647Z",
     "shell.execute_reply": "2024-01-30T13:10:00.662574Z"
    },
    "id": "X6fVwqBQJ6vp",
    "outputId": "c9f614e1-d9e8-41bd-e4cc-183ecb7e8c4f",
    "papermill": {
     "duration": 0.025586,
     "end_time": "2024-01-30T13:10:00.667381",
     "exception": false,
     "start_time": "2024-01-30T13:10:00.641795",
     "status": "completed"
    },
    "tags": []
   },
   "outputs": [
    {
     "data": {
      "text/plain": [
       "array([0.    , 0.    , 0.3125, 0.8125, 0.5625, 0.0625, 0.    , 0.    ,\n",
       "       0.    , 0.    , 0.8125, 0.9375, 0.625 , 0.9375, 0.3125, 0.    ,\n",
       "       0.    , 0.1875, 0.9375, 0.125 , 0.    , 0.6875, 0.5   , 0.    ,\n",
       "       0.    , 0.25  , 0.75  , 0.    , 0.    , 0.5   , 0.5   , 0.    ,\n",
       "       0.    , 0.3125, 0.5   , 0.    , 0.    , 0.5625, 0.5   , 0.    ,\n",
       "       0.    , 0.25  , 0.6875, 0.    , 0.0625, 0.75  , 0.4375, 0.    ,\n",
       "       0.    , 0.125 , 0.875 , 0.3125, 0.625 , 0.75  , 0.    , 0.    ,\n",
       "       0.    , 0.    , 0.375 , 0.8125, 0.625 , 0.    , 0.    , 0.    ])"
      ]
     },
     "execution_count": 19,
     "metadata": {},
     "output_type": "execute_result"
    }
   ],
   "source": [
    "data[0]"
   ]
  },
  {
   "cell_type": "markdown",
   "id": "8cfa2289",
   "metadata": {
    "id": "_d9reeJwKHXR",
    "papermill": {
     "duration": 0.011687,
     "end_time": "2024-01-30T13:10:00.691104",
     "exception": false,
     "start_time": "2024-01-30T13:10:00.679417",
     "status": "completed"
    },
    "tags": []
   },
   "source": [
    "# **Train test split Data**"
   ]
  },
  {
   "cell_type": "code",
   "execution_count": 20,
   "id": "b6886017",
   "metadata": {
    "execution": {
     "iopub.execute_input": "2024-01-30T13:10:00.717823Z",
     "iopub.status.busy": "2024-01-30T13:10:00.717441Z",
     "iopub.status.idle": "2024-01-30T13:10:00.869792Z",
     "shell.execute_reply": "2024-01-30T13:10:00.868725Z"
    },
    "id": "FWmf0Te-KMcf",
    "papermill": {
     "duration": 0.170855,
     "end_time": "2024-01-30T13:10:00.872635",
     "exception": false,
     "start_time": "2024-01-30T13:10:00.701780",
     "status": "completed"
    },
    "tags": []
   },
   "outputs": [],
   "source": [
    "from sklearn.model_selection import train_test_split"
   ]
  },
  {
   "cell_type": "code",
   "execution_count": 21,
   "id": "ade1e056",
   "metadata": {
    "execution": {
     "iopub.execute_input": "2024-01-30T13:10:00.905253Z",
     "iopub.status.busy": "2024-01-30T13:10:00.904708Z",
     "iopub.status.idle": "2024-01-30T13:10:00.911652Z",
     "shell.execute_reply": "2024-01-30T13:10:00.910173Z"
    },
    "id": "DkYgWMVWKUTF",
    "papermill": {
     "duration": 0.025423,
     "end_time": "2024-01-30T13:10:00.914500",
     "exception": false,
     "start_time": "2024-01-30T13:10:00.889077",
     "status": "completed"
    },
    "tags": []
   },
   "outputs": [],
   "source": [
    "xtrain, xtest, ytrain, ytest = train_test_split(data, df.target, test_size = 0.3)"
   ]
  },
  {
   "cell_type": "code",
   "execution_count": 22,
   "id": "92f7f66d",
   "metadata": {
    "execution": {
     "iopub.execute_input": "2024-01-30T13:10:00.953209Z",
     "iopub.status.busy": "2024-01-30T13:10:00.952335Z",
     "iopub.status.idle": "2024-01-30T13:10:00.960708Z",
     "shell.execute_reply": "2024-01-30T13:10:00.959738Z"
    },
    "id": "YVTrdv1HKYm2",
    "outputId": "8edc723d-b816-4e54-9719-4d85ac2372dd",
    "papermill": {
     "duration": 0.033877,
     "end_time": "2024-01-30T13:10:00.964708",
     "exception": false,
     "start_time": "2024-01-30T13:10:00.930831",
     "status": "completed"
    },
    "tags": []
   },
   "outputs": [
    {
     "data": {
      "text/plain": [
       "((1257, 64), (540, 64), (1257,), (540,))"
      ]
     },
     "execution_count": 22,
     "metadata": {},
     "output_type": "execute_result"
    }
   ],
   "source": [
    "xtrain.shape, xtest.shape, ytrain.shape, ytest.shape"
   ]
  },
  {
   "cell_type": "markdown",
   "id": "9408350a",
   "metadata": {
    "id": "TjfzCy1hLHgE",
    "papermill": {
     "duration": 0.018563,
     "end_time": "2024-01-30T13:10:00.995785",
     "exception": false,
     "start_time": "2024-01-30T13:10:00.977222",
     "status": "completed"
    },
    "tags": []
   },
   "source": [
    "# **Modeling**"
   ]
  },
  {
   "cell_type": "markdown",
   "id": "4479c7c7",
   "metadata": {
    "id": "8WAIp_RNLa5F",
    "papermill": {
     "duration": 0.018297,
     "end_time": "2024-01-30T13:10:01.038551",
     "exception": false,
     "start_time": "2024-01-30T13:10:01.020254",
     "status": "completed"
    },
    "tags": []
   },
   "source": [
    "### **Random Forest model**"
   ]
  },
  {
   "cell_type": "code",
   "execution_count": 23,
   "id": "a9510028",
   "metadata": {
    "execution": {
     "iopub.execute_input": "2024-01-30T13:10:01.070729Z",
     "iopub.status.busy": "2024-01-30T13:10:01.070325Z",
     "iopub.status.idle": "2024-01-30T13:10:01.467646Z",
     "shell.execute_reply": "2024-01-30T13:10:01.465229Z"
    },
    "id": "XoB29gGkLL7W",
    "papermill": {
     "duration": 0.416391,
     "end_time": "2024-01-30T13:10:01.470792",
     "exception": false,
     "start_time": "2024-01-30T13:10:01.054401",
     "status": "completed"
    },
    "tags": []
   },
   "outputs": [],
   "source": [
    "from sklearn.ensemble import RandomForestClassifier"
   ]
  },
  {
   "cell_type": "code",
   "execution_count": 24,
   "id": "0b12e0e1",
   "metadata": {
    "execution": {
     "iopub.execute_input": "2024-01-30T13:10:01.498170Z",
     "iopub.status.busy": "2024-01-30T13:10:01.496601Z",
     "iopub.status.idle": "2024-01-30T13:10:01.502631Z",
     "shell.execute_reply": "2024-01-30T13:10:01.501285Z"
    },
    "id": "139leh2qLmDR",
    "papermill": {
     "duration": 0.021457,
     "end_time": "2024-01-30T13:10:01.504704",
     "exception": false,
     "start_time": "2024-01-30T13:10:01.483247",
     "status": "completed"
    },
    "tags": []
   },
   "outputs": [],
   "source": [
    "rf = RandomForestClassifier()"
   ]
  },
  {
   "cell_type": "markdown",
   "id": "72363008",
   "metadata": {
    "id": "Wg0qQXPIMbDL",
    "papermill": {
     "duration": 0.013636,
     "end_time": "2024-01-30T13:10:01.531034",
     "exception": false,
     "start_time": "2024-01-30T13:10:01.517398",
     "status": "completed"
    },
    "tags": []
   },
   "source": [
    "### **Train or Fit Model**"
   ]
  },
  {
   "cell_type": "code",
   "execution_count": 25,
   "id": "afe721c9",
   "metadata": {
    "execution": {
     "iopub.execute_input": "2024-01-30T13:10:01.562491Z",
     "iopub.status.busy": "2024-01-30T13:10:01.560931Z",
     "iopub.status.idle": "2024-01-30T13:10:01.993701Z",
     "shell.execute_reply": "2024-01-30T13:10:01.992110Z"
    },
    "id": "vp-2DHLVLs4T",
    "outputId": "da61d3e8-5902-47fa-d9e0-f73c24e1c1e4",
    "papermill": {
     "duration": 0.449801,
     "end_time": "2024-01-30T13:10:01.996616",
     "exception": false,
     "start_time": "2024-01-30T13:10:01.546815",
     "status": "completed"
    },
    "tags": []
   },
   "outputs": [
    {
     "data": {
      "text/html": [
       "<style>#sk-container-id-1 {color: black;background-color: white;}#sk-container-id-1 pre{padding: 0;}#sk-container-id-1 div.sk-toggleable {background-color: white;}#sk-container-id-1 label.sk-toggleable__label {cursor: pointer;display: block;width: 100%;margin-bottom: 0;padding: 0.3em;box-sizing: border-box;text-align: center;}#sk-container-id-1 label.sk-toggleable__label-arrow:before {content: \"▸\";float: left;margin-right: 0.25em;color: #696969;}#sk-container-id-1 label.sk-toggleable__label-arrow:hover:before {color: black;}#sk-container-id-1 div.sk-estimator:hover label.sk-toggleable__label-arrow:before {color: black;}#sk-container-id-1 div.sk-toggleable__content {max-height: 0;max-width: 0;overflow: hidden;text-align: left;background-color: #f0f8ff;}#sk-container-id-1 div.sk-toggleable__content pre {margin: 0.2em;color: black;border-radius: 0.25em;background-color: #f0f8ff;}#sk-container-id-1 input.sk-toggleable__control:checked~div.sk-toggleable__content {max-height: 200px;max-width: 100%;overflow: auto;}#sk-container-id-1 input.sk-toggleable__control:checked~label.sk-toggleable__label-arrow:before {content: \"▾\";}#sk-container-id-1 div.sk-estimator input.sk-toggleable__control:checked~label.sk-toggleable__label {background-color: #d4ebff;}#sk-container-id-1 div.sk-label input.sk-toggleable__control:checked~label.sk-toggleable__label {background-color: #d4ebff;}#sk-container-id-1 input.sk-hidden--visually {border: 0;clip: rect(1px 1px 1px 1px);clip: rect(1px, 1px, 1px, 1px);height: 1px;margin: -1px;overflow: hidden;padding: 0;position: absolute;width: 1px;}#sk-container-id-1 div.sk-estimator {font-family: monospace;background-color: #f0f8ff;border: 1px dotted black;border-radius: 0.25em;box-sizing: border-box;margin-bottom: 0.5em;}#sk-container-id-1 div.sk-estimator:hover {background-color: #d4ebff;}#sk-container-id-1 div.sk-parallel-item::after {content: \"\";width: 100%;border-bottom: 1px solid gray;flex-grow: 1;}#sk-container-id-1 div.sk-label:hover label.sk-toggleable__label {background-color: #d4ebff;}#sk-container-id-1 div.sk-serial::before {content: \"\";position: absolute;border-left: 1px solid gray;box-sizing: border-box;top: 0;bottom: 0;left: 50%;z-index: 0;}#sk-container-id-1 div.sk-serial {display: flex;flex-direction: column;align-items: center;background-color: white;padding-right: 0.2em;padding-left: 0.2em;position: relative;}#sk-container-id-1 div.sk-item {position: relative;z-index: 1;}#sk-container-id-1 div.sk-parallel {display: flex;align-items: stretch;justify-content: center;background-color: white;position: relative;}#sk-container-id-1 div.sk-item::before, #sk-container-id-1 div.sk-parallel-item::before {content: \"\";position: absolute;border-left: 1px solid gray;box-sizing: border-box;top: 0;bottom: 0;left: 50%;z-index: -1;}#sk-container-id-1 div.sk-parallel-item {display: flex;flex-direction: column;z-index: 1;position: relative;background-color: white;}#sk-container-id-1 div.sk-parallel-item:first-child::after {align-self: flex-end;width: 50%;}#sk-container-id-1 div.sk-parallel-item:last-child::after {align-self: flex-start;width: 50%;}#sk-container-id-1 div.sk-parallel-item:only-child::after {width: 0;}#sk-container-id-1 div.sk-dashed-wrapped {border: 1px dashed gray;margin: 0 0.4em 0.5em 0.4em;box-sizing: border-box;padding-bottom: 0.4em;background-color: white;}#sk-container-id-1 div.sk-label label {font-family: monospace;font-weight: bold;display: inline-block;line-height: 1.2em;}#sk-container-id-1 div.sk-label-container {text-align: center;}#sk-container-id-1 div.sk-container {/* jupyter's `normalize.less` sets `[hidden] { display: none; }` but bootstrap.min.css set `[hidden] { display: none !important; }` so we also need the `!important` here to be able to override the default hidden behavior on the sphinx rendered scikit-learn.org. See: https://github.com/scikit-learn/scikit-learn/issues/21755 */display: inline-block !important;position: relative;}#sk-container-id-1 div.sk-text-repr-fallback {display: none;}</style><div id=\"sk-container-id-1\" class=\"sk-top-container\"><div class=\"sk-text-repr-fallback\"><pre>RandomForestClassifier()</pre><b>In a Jupyter environment, please rerun this cell to show the HTML representation or trust the notebook. <br />On GitHub, the HTML representation is unable to render, please try loading this page with nbviewer.org.</b></div><div class=\"sk-container\" hidden><div class=\"sk-item\"><div class=\"sk-estimator sk-toggleable\"><input class=\"sk-toggleable__control sk-hidden--visually\" id=\"sk-estimator-id-1\" type=\"checkbox\" checked><label for=\"sk-estimator-id-1\" class=\"sk-toggleable__label sk-toggleable__label-arrow\">RandomForestClassifier</label><div class=\"sk-toggleable__content\"><pre>RandomForestClassifier()</pre></div></div></div></div></div>"
      ],
      "text/plain": [
       "RandomForestClassifier()"
      ]
     },
     "execution_count": 25,
     "metadata": {},
     "output_type": "execute_result"
    }
   ],
   "source": [
    "rf.fit(xtrain, ytrain)"
   ]
  },
  {
   "cell_type": "markdown",
   "id": "b3bf509b",
   "metadata": {
    "id": "9SOPoN9TNYFb",
    "papermill": {
     "duration": 0.012998,
     "end_time": "2024-01-30T13:10:02.023778",
     "exception": false,
     "start_time": "2024-01-30T13:10:02.010780",
     "status": "completed"
    },
    "tags": []
   },
   "source": [
    "# **Prediction**"
   ]
  },
  {
   "cell_type": "markdown",
   "id": "9beb93b8",
   "metadata": {
    "id": "VG9p5F21PAvH",
    "papermill": {
     "duration": 0.014517,
     "end_time": "2024-01-30T13:10:02.051321",
     "exception": false,
     "start_time": "2024-01-30T13:10:02.036804",
     "status": "completed"
    },
    "tags": []
   },
   "source": [
    "### **Predict Test Data**"
   ]
  },
  {
   "cell_type": "code",
   "execution_count": 26,
   "id": "bd344da7",
   "metadata": {
    "execution": {
     "iopub.execute_input": "2024-01-30T13:10:02.078279Z",
     "iopub.status.busy": "2024-01-30T13:10:02.077194Z",
     "iopub.status.idle": "2024-01-30T13:10:02.102394Z",
     "shell.execute_reply": "2024-01-30T13:10:02.101146Z"
    },
    "id": "OExW8lApNl9i",
    "papermill": {
     "duration": 0.041431,
     "end_time": "2024-01-30T13:10:02.105064",
     "exception": false,
     "start_time": "2024-01-30T13:10:02.063633",
     "status": "completed"
    },
    "tags": []
   },
   "outputs": [],
   "source": [
    "y_pred = rf.predict(xtest)"
   ]
  },
  {
   "cell_type": "code",
   "execution_count": 27,
   "id": "785c67d4",
   "metadata": {
    "execution": {
     "iopub.execute_input": "2024-01-30T13:10:02.130388Z",
     "iopub.status.busy": "2024-01-30T13:10:02.130011Z",
     "iopub.status.idle": "2024-01-30T13:10:02.139235Z",
     "shell.execute_reply": "2024-01-30T13:10:02.137574Z"
    },
    "id": "rnb_fNpENqrv",
    "outputId": "081b94a0-1398-4f61-b332-f74b5eb8d431",
    "papermill": {
     "duration": 0.025509,
     "end_time": "2024-01-30T13:10:02.142242",
     "exception": false,
     "start_time": "2024-01-30T13:10:02.116733",
     "status": "completed"
    },
    "tags": []
   },
   "outputs": [
    {
     "data": {
      "text/plain": [
       "array([7, 2, 7, 1, 8, 9, 2, 4, 1, 4, 1, 7, 0, 9, 9, 4, 1, 9, 6, 8, 8, 4,\n",
       "       6, 7, 0, 8, 1, 0, 0, 3, 3, 2, 6, 8, 8, 0, 3, 9, 0, 8, 8, 9, 3, 6,\n",
       "       2, 1, 3, 2, 6, 3, 4, 2, 6, 9, 4, 1, 1, 4, 5, 2, 9, 6, 7, 7, 4, 4,\n",
       "       1, 2, 8, 8, 8, 4, 0, 3, 7, 3, 8, 0, 0, 4, 0, 9, 9, 5, 6, 0, 9, 2,\n",
       "       6, 7, 8, 8, 3, 8, 4, 2, 1, 9, 5, 5, 0, 5, 3, 8, 0, 8, 1, 2, 5, 0,\n",
       "       6, 9, 3, 0, 4, 4, 8, 4, 4, 8, 3, 7, 0, 5, 3, 8, 1, 8, 0, 5, 0, 4,\n",
       "       5, 9, 7, 7, 0, 8, 7, 4, 7, 1, 7, 5, 5, 9, 6, 9, 9, 5, 3, 0, 9, 2,\n",
       "       6, 2, 5, 9, 7, 5, 8, 3, 8, 7, 0, 5, 4, 8, 2, 8, 1, 4, 4, 7, 0, 6,\n",
       "       3, 3, 7, 9, 6, 5, 0, 2, 3, 1, 9, 4, 0, 6, 8, 9, 5, 7, 1, 4, 5, 8,\n",
       "       4, 1, 3, 6, 0, 2, 3, 7, 1, 9, 4, 7, 2, 5, 9, 5, 0, 7, 9, 3, 7, 0,\n",
       "       6, 7, 4, 6, 3, 0, 8, 4, 2, 2, 6, 2, 2, 9, 2, 1, 1, 9, 9, 6, 4, 4,\n",
       "       2, 7, 8, 0, 0, 0, 4, 7, 6, 3, 6, 0, 6, 1, 9, 1, 6, 4, 5, 3, 0, 1,\n",
       "       2, 6, 0, 0, 0, 1, 2, 6, 9, 8, 7, 7, 1, 4, 9, 4, 7, 9, 3, 0, 9, 7,\n",
       "       7, 9, 6, 4, 0, 6, 8, 9, 6, 9, 7, 0, 8, 9, 3, 0, 9, 5, 4, 9, 1, 4,\n",
       "       7, 4, 2, 4, 3, 5, 5, 2, 3, 7, 5, 4, 3, 1, 4, 5, 2, 8, 5, 7, 5, 7,\n",
       "       2, 7, 1, 5, 2, 5, 3, 5, 2, 4, 9, 5, 0, 5, 4, 2, 1, 5, 8, 7, 1, 4,\n",
       "       7, 7, 3, 7, 1, 4, 4, 1, 0, 7, 1, 2, 0, 0, 6, 6, 0, 1, 4, 3, 0, 2,\n",
       "       8, 2, 2, 8, 4, 0, 9, 0, 0, 0, 8, 1, 1, 2, 4, 1, 7, 3, 6, 1, 8, 1,\n",
       "       6, 8, 0, 1, 5, 2, 7, 0, 8, 6, 6, 3, 1, 6, 9, 8, 6, 6, 8, 9, 1, 9,\n",
       "       8, 5, 4, 7, 5, 2, 3, 2, 5, 3, 1, 8, 3, 0, 0, 3, 6, 6, 9, 6, 2, 3,\n",
       "       8, 6, 8, 7, 4, 7, 1, 5, 5, 5, 1, 6, 5, 2, 3, 4, 7, 4, 0, 0, 2, 8,\n",
       "       9, 0, 9, 5, 5, 7, 9, 4, 2, 6, 1, 1, 1, 1, 5, 7, 6, 9, 8, 5, 5, 9,\n",
       "       7, 4, 4, 7, 9, 2, 5, 8, 2, 9, 7, 5, 3, 3, 1, 3, 2, 3, 1, 3, 4, 5,\n",
       "       4, 9, 6, 2, 2, 5, 9, 8, 8, 1, 5, 5, 0, 2, 3, 0, 4, 3, 5, 1, 0, 7,\n",
       "       2, 1, 7, 3, 8, 7, 7, 0, 6, 9, 7, 0])"
      ]
     },
     "execution_count": 27,
     "metadata": {},
     "output_type": "execute_result"
    }
   ],
   "source": [
    "y_pred"
   ]
  },
  {
   "cell_type": "markdown",
   "id": "f1bba5f0",
   "metadata": {
    "id": "Jvr4uUaWPxVZ",
    "papermill": {
     "duration": 0.011444,
     "end_time": "2024-01-30T13:10:02.165411",
     "exception": false,
     "start_time": "2024-01-30T13:10:02.153967",
     "status": "completed"
    },
    "tags": []
   },
   "source": [
    "#  **Model Evaluation**"
   ]
  },
  {
   "cell_type": "markdown",
   "id": "720f98e3",
   "metadata": {
    "id": "hPklvpbnN9Y6",
    "papermill": {
     "duration": 0.014767,
     "end_time": "2024-01-30T13:10:02.193658",
     "exception": false,
     "start_time": "2024-01-30T13:10:02.178891",
     "status": "completed"
    },
    "tags": []
   },
   "source": [
    "### **Model Accuracy**"
   ]
  },
  {
   "cell_type": "code",
   "execution_count": 28,
   "id": "bfa6ab92",
   "metadata": {
    "execution": {
     "iopub.execute_input": "2024-01-30T13:10:02.229577Z",
     "iopub.status.busy": "2024-01-30T13:10:02.229165Z",
     "iopub.status.idle": "2024-01-30T13:10:02.234477Z",
     "shell.execute_reply": "2024-01-30T13:10:02.232499Z"
    },
    "id": "nZpShDxnOLIa",
    "papermill": {
     "duration": 0.024993,
     "end_time": "2024-01-30T13:10:02.237708",
     "exception": false,
     "start_time": "2024-01-30T13:10:02.212715",
     "status": "completed"
    },
    "tags": []
   },
   "outputs": [],
   "source": [
    "from sklearn.metrics import confusion_matrix, classification_report"
   ]
  },
  {
   "cell_type": "code",
   "execution_count": 29,
   "id": "d4c20308",
   "metadata": {
    "execution": {
     "iopub.execute_input": "2024-01-30T13:10:02.268527Z",
     "iopub.status.busy": "2024-01-30T13:10:02.267824Z",
     "iopub.status.idle": "2024-01-30T13:10:02.276358Z",
     "shell.execute_reply": "2024-01-30T13:10:02.275488Z"
    },
    "id": "ivPo0VnBOPHs",
    "outputId": "cf461f37-0cc5-43ab-c0b5-dc7397e93a7c",
    "papermill": {
     "duration": 0.028062,
     "end_time": "2024-01-30T13:10:02.279741",
     "exception": false,
     "start_time": "2024-01-30T13:10:02.251679",
     "status": "completed"
    },
    "tags": []
   },
   "outputs": [
    {
     "data": {
      "text/plain": [
       "array([[60,  0,  0,  0,  0,  0,  0,  0,  0,  0],\n",
       "       [ 0, 52,  0,  0,  0,  0,  0,  0,  0,  0],\n",
       "       [ 1,  1, 50,  0,  0,  0,  0,  0,  0,  0],\n",
       "       [ 0,  0,  0, 48,  0,  0,  0,  2,  1,  0],\n",
       "       [ 0,  0,  0,  0, 58,  0,  0,  2,  0,  0],\n",
       "       [ 0,  0,  0,  0,  0, 53,  0,  0,  1,  0],\n",
       "       [ 1,  0,  0,  0,  0,  0, 47,  0,  0,  0],\n",
       "       [ 0,  0,  0,  0,  0,  0,  0, 53,  0,  1],\n",
       "       [ 0,  1,  1,  0,  0,  0,  0,  0, 51,  0],\n",
       "       [ 0,  0,  0,  0,  0,  1,  0,  1,  0, 54]])"
      ]
     },
     "execution_count": 29,
     "metadata": {},
     "output_type": "execute_result"
    }
   ],
   "source": [
    "confusion_matrix(ytest, y_pred)"
   ]
  },
  {
   "cell_type": "code",
   "execution_count": 30,
   "id": "525d3500",
   "metadata": {
    "execution": {
     "iopub.execute_input": "2024-01-30T13:10:02.317978Z",
     "iopub.status.busy": "2024-01-30T13:10:02.317088Z",
     "iopub.status.idle": "2024-01-30T13:10:02.337287Z",
     "shell.execute_reply": "2024-01-30T13:10:02.335214Z"
    },
    "id": "JTY4ExgcOXFU",
    "outputId": "da391975-0d03-4aca-ec74-fe294d7ee90c",
    "papermill": {
     "duration": 0.040478,
     "end_time": "2024-01-30T13:10:02.340631",
     "exception": false,
     "start_time": "2024-01-30T13:10:02.300153",
     "status": "completed"
    },
    "tags": []
   },
   "outputs": [
    {
     "name": "stdout",
     "output_type": "stream",
     "text": [
      "              precision    recall  f1-score   support\n",
      "\n",
      "           0       0.97      1.00      0.98        60\n",
      "           1       0.96      1.00      0.98        52\n",
      "           2       0.98      0.96      0.97        52\n",
      "           3       1.00      0.94      0.97        51\n",
      "           4       1.00      0.97      0.98        60\n",
      "           5       0.98      0.98      0.98        54\n",
      "           6       1.00      0.98      0.99        48\n",
      "           7       0.91      0.98      0.95        54\n",
      "           8       0.96      0.96      0.96        53\n",
      "           9       0.98      0.96      0.97        56\n",
      "\n",
      "    accuracy                           0.97       540\n",
      "   macro avg       0.98      0.97      0.97       540\n",
      "weighted avg       0.97      0.97      0.97       540\n",
      "\n"
     ]
    }
   ],
   "source": [
    "print(classification_report(ytest, y_pred))"
   ]
  },
  {
   "cell_type": "markdown",
   "id": "2a1d0985",
   "metadata": {
    "id": "s717aEzkSeJO",
    "papermill": {
     "duration": 0.011399,
     "end_time": "2024-01-30T13:10:02.364826",
     "exception": false,
     "start_time": "2024-01-30T13:10:02.353427",
     "status": "completed"
    },
    "tags": []
   },
   "source": [
    "# **Explaination**"
   ]
  },
  {
   "cell_type": "markdown",
   "id": "bf9a4b1b",
   "metadata": {
    "id": "JB39fRcBQY3C",
    "papermill": {
     "duration": 0.012089,
     "end_time": "2024-01-30T13:10:02.388486",
     "exception": false,
     "start_time": "2024-01-30T13:10:02.376397",
     "status": "completed"
    },
    "tags": []
   },
   "source": [
    "Handwritten Digit Prediction, or Digit Classification, is like training a computer to read and understand handwritten numbers, similar to how we recognize them ourselves. Imagine you have a bunch of pictures, each showing a handwritten digit from 0 to 9. The goal is to teach the computer how to look at these pictures and figure out which digit is in each one. We split our pictures into two groups: one set to teach the computer (training set) and another to test its skills (testing set). We choose a smart method, like a special problem-solving recipe, for the computer to learn the patterns and differences in the pictures. As it learns, we guide it by telling whether its guesses are right or wrong. Once it masters this skill, we give it new pictures it hasn't seen during training, and it tries its best to guess the correct digit. We check its guesses to see how well it's doing, using simple checks to see if it's getting the numbers correct. This project helps us build a computer that can recognize handwritten digits, which has practical uses like reading postal codes or helping computers understand our handwriting. It's like teaching the computer to read your handwriting."
   ]
  }
 ],
 "metadata": {
  "kaggle": {
   "accelerator": "none",
   "dataSources": [],
   "isGpuEnabled": false,
   "isInternetEnabled": false,
   "language": "python",
   "sourceType": "notebook"
  },
  "kernelspec": {
   "display_name": "Python 3",
   "language": "python",
   "name": "python3"
  },
  "language_info": {
   "codemirror_mode": {
    "name": "ipython",
    "version": 3
   },
   "file_extension": ".py",
   "mimetype": "text/x-python",
   "name": "python",
   "nbconvert_exporter": "python",
   "pygments_lexer": "ipython3",
   "version": "3.10.13"
  },
  "papermill": {
   "default_parameters": {},
   "duration": 10.122724,
   "end_time": "2024-01-30T13:10:03.325747",
   "environment_variables": {},
   "exception": null,
   "input_path": "__notebook__.ipynb",
   "output_path": "__notebook__.ipynb",
   "parameters": {},
   "start_time": "2024-01-30T13:09:53.203023",
   "version": "2.4.0"
  }
 },
 "nbformat": 4,
 "nbformat_minor": 5
}
